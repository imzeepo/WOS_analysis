{
 "cells": [
  {
   "cell_type": "code",
   "execution_count": 1,
   "metadata": {
    "collapsed": true
   },
   "outputs": [],
   "source": [
    "from neo4j import GraphDatabase"
   ]
  },
  {
   "cell_type": "code",
   "execution_count": 2,
   "outputs": [],
   "source": [
    "def connect_neo4j(uri, user, password):\n",
    "    driver = GraphDatabase.driver(uri, auth=(user, password))\n",
    "    return driver"
   ],
   "metadata": {
    "collapsed": false,
    "pycharm": {
     "name": "#%%\n"
    }
   }
  },
  {
   "cell_type": "code",
   "execution_count": 13,
   "outputs": [],
   "source": [
    "driver = connect_neo4j(\"bolt://localhost:7687\", \"neo4j\", \"09150915\")"
   ],
   "metadata": {
    "collapsed": false,
    "pycharm": {
     "name": "#%%\n"
    }
   }
  },
  {
   "cell_type": "code",
   "execution_count": 14,
   "outputs": [
    {
     "name": "stdout",
     "output_type": "stream",
     "text": [
      "169\n"
     ]
    }
   ],
   "source": [
    "with driver.session() as session :\n",
    "    result = session.run(\"MATCH (n) RETURN count(n) AS num_nodes\")\n",
    "    for record in result:\n",
    "        print(record[\"num_nodes\"])"
   ],
   "metadata": {
    "collapsed": false,
    "pycharm": {
     "name": "#%%\n"
    }
   }
  },
  {
   "cell_type": "code",
   "execution_count": 15,
   "outputs": [],
   "source": [
    "def run_query(query):\n",
    "    with driver.session as session :\n",
    "        result = session.run(query)\n",
    "    return result"
   ],
   "metadata": {
    "collapsed": false,
    "pycharm": {
     "name": "#%%\n"
    }
   }
  },
  {
   "cell_type": "code",
   "execution_count": 20,
   "outputs": [],
   "source": [
    "\n",
    "with driver.session() as session:\n",
    "    session.run(\"\"\"\n",
    "            CALL gds.graph.project(\n",
    "                'movie',\n",
    "                ['Movie','Person'],\n",
    "                {\n",
    "                    Relationship: {\n",
    "                        type: '*',\n",
    "                        orientation: 'UNDIRECTED'\n",
    "                    }\n",
    "                }\n",
    "            )\n",
    "        \"\"\")"
   ],
   "metadata": {
    "collapsed": false,
    "pycharm": {
     "name": "#%%\n"
    }
   }
  },
  {
   "cell_type": "code",
   "execution_count": 18,
   "outputs": [],
   "source": [
    "def get_network_description(field):\n",
    "\n",
    "    # project graph to gds library\n",
    "    project_query =\"\"\"\n",
    "    CALL gds.graph.project('{}',\n",
    "                [author]\n",
    "                \\{\n",
    "        Relationship: \\{\n",
    "        type: '*',\n",
    "                        orientation: 'UNDIRECTED'\n",
    "                    }\n",
    "                }\n",
    "            )\"\"\"\n",
    "    with driver.session() as session :\n",
    "        session.run(project_query)\n",
    "\n",
    "    # FastRP embedding\n",
    "    embedding_query = f\"\"\"\n",
    "    CALL gds.fastRP.mutate('{field}',\n",
    "      \\{\n",
    "        embeddingDimension: 100,\n",
    "        randomSeed: 42,\n",
    "        mutateProperty: 'embedding',\n",
    "        relationshipWeightProperty: 'amount',\n",
    "        iterationWeights: [0.8, 1, 1, 1]\n",
    "      }\n",
    "    YIELD nodePropertiesWritten\n",
    "    \"\"\"\n",
    "    node_properties_written = run_query(embedding_query)\n",
    "\n",
    "    return\n",
    "    \n",
    "\n",
    "\n",
    "\n"
   ],
   "metadata": {
    "collapsed": false,
    "pycharm": {
     "name": "#%%\n"
    }
   }
  },
  {
   "cell_type": "markdown",
   "source": [
    "- No. Authors\n",
    "- No. Edges\n",
    "- Degree centralisation\n",
    "- No. Components\n",
    "- No. Authors in main component\n",
    "- Mean distance\n",
    "- Largest distance"
   ],
   "metadata": {
    "collapsed": false
   }
  },
  {
   "cell_type": "code",
   "execution_count": 16,
   "outputs": [],
   "source": [],
   "metadata": {
    "collapsed": false,
    "pycharm": {
     "name": "#%%\n"
    }
   }
  },
  {
   "cell_type": "code",
   "execution_count": null,
   "outputs": [],
   "source": [],
   "metadata": {
    "collapsed": false,
    "pycharm": {
     "name": "#%%\n"
    }
   }
  }
 ],
 "metadata": {
  "kernelspec": {
   "display_name": "Python 3",
   "language": "python",
   "name": "python3"
  },
  "language_info": {
   "codemirror_mode": {
    "name": "ipython",
    "version": 2
   },
   "file_extension": ".py",
   "mimetype": "text/x-python",
   "name": "python",
   "nbconvert_exporter": "python",
   "pygments_lexer": "ipython2",
   "version": "2.7.6"
  }
 },
 "nbformat": 4,
 "nbformat_minor": 0
}