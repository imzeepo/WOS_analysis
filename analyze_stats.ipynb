{
 "cells": [
  {
   "cell_type": "code",
   "execution_count": 1,
   "metadata": {
    "collapsed": true
   },
   "outputs": [],
   "source": [
    "import pandas as pd\n",
    "import numpy as np\n",
    "from scipy import stats"
   ]
  },
  {
   "cell_type": "code",
   "execution_count": 2,
   "outputs": [],
   "source": [
    "stats_all = pd.read_excel('/Users/jiyounglim/Documents/study/공종설 네트워크 분석/output/stats.xlsx')"
   ],
   "metadata": {
    "collapsed": false,
    "pycharm": {
     "name": "#%%\n"
    }
   }
  },
  {
   "cell_type": "code",
   "execution_count": 3,
   "outputs": [
    {
     "name": "stdout",
     "output_type": "stream",
     "text": [
      "0     EngineeringEnvironmental_environmentalEngineering\n",
      "1                constructionBuildingTechnology_asphalt\n",
      "2     constructionBuildingTechnology_sustainabilityS...\n",
      "3                               MaterialScience_asphalt\n",
      "4                       civilEngineering_Transportation\n",
      "5              civilEngineering_GeoTechnicalEngineering\n",
      "6                      civilEngineering_concreteScience\n",
      "7     constructionBuildingTechnology_testingMaintanence\n",
      "8        constructionBuildingTechnology_concreteScience\n",
      "9     constructionBuildingTechnology_geotechnicalEng...\n",
      "10                  civilEngineering_testingMaintanance\n",
      "11              MaterialScience_geotechnicalEngineering\n",
      "12                      MaterialScience_concreteScience\n",
      "13                             civilEngineering_asphalt\n",
      "Name: field, dtype: object\n"
     ]
    }
   ],
   "source": [
    "print(stats_all['field'])"
   ],
   "metadata": {
    "collapsed": false,
    "pycharm": {
     "name": "#%%\n"
    }
   }
  },
  {
   "cell_type": "code",
   "execution_count": 18,
   "outputs": [],
   "source": [
    "A = stats_field['constructionBuildingTechnology_asphalt']\n",
    "B = stats_field['MaterialScience_asphalt']\n",
    "corr_coef, p_value = stats.pearsonr(A,B)"
   ],
   "metadata": {
    "collapsed": false,
    "pycharm": {
     "name": "#%%\n"
    }
   }
  },
  {
   "cell_type": "code",
   "execution_count": 19,
   "outputs": [
    {
     "name": "stdout",
     "output_type": "stream",
     "text": [
      "0.9979957275681484 3.450477925223342e-07\n"
     ]
    }
   ],
   "source": [
    "print(corr_coef, p_value)"
   ],
   "metadata": {
    "collapsed": false,
    "pycharm": {
     "name": "#%%\n"
    }
   }
  },
  {
   "cell_type": "code",
   "execution_count": 21,
   "outputs": [
    {
     "name": "stdout",
     "output_type": "stream",
     "text": [
      "PearsonRResult(statistic=0.9982752634117952, pvalue=2.37060605761691e-07)\n"
     ]
    }
   ],
   "source": [
    "C = stats_field['civilEngineering_asphalt']\n",
    "print(stats.pearsonr(A,C))"
   ],
   "metadata": {
    "collapsed": false,
    "pycharm": {
     "name": "#%%\n"
    }
   }
  },
  {
   "cell_type": "code",
   "execution_count": 12,
   "outputs": [],
   "source": [
    "stats_field = stats_all.T"
   ],
   "metadata": {
    "collapsed": false,
    "pycharm": {
     "name": "#%%\n"
    }
   }
  },
  {
   "cell_type": "code",
   "execution_count": 14,
   "outputs": [],
   "source": [
    "stats_field.columns = stats_field.loc['field']"
   ],
   "metadata": {
    "collapsed": false,
    "pycharm": {
     "name": "#%%\n"
    }
   }
  },
  {
   "cell_type": "code",
   "execution_count": 22,
   "outputs": [
    {
     "name": "stdout",
     "output_type": "stream",
     "text": [
      "F-value: 0.7812540435419802\n",
      "p-value: 0.47275021615605467\n"
     ]
    }
   ],
   "source": [
    "A = stats_field['constructionBuildingTechnology_asphalt']\n",
    "B = stats_field['MaterialScience_asphalt']\n",
    "C = stats_field['civilEngineering_asphalt']\n",
    "\n",
    "fvalue, pvalue = stats.f_oneway(A, B, C)\n",
    "print(\"F-value:\", fvalue)\n",
    "print(\"p-value:\", pvalue)"
   ],
   "metadata": {
    "collapsed": false,
    "pycharm": {
     "name": "#%%\n"
    }
   }
  },
  {
   "cell_type": "code",
   "execution_count": 16,
   "outputs": [],
   "source": [
    "stats_field = stats_field.drop(index= ['Unnamed: 0','field','mainCategory','subCategory'])"
   ],
   "metadata": {
    "collapsed": false,
    "pycharm": {
     "name": "#%%\n"
    }
   }
  },
  {
   "cell_type": "code",
   "execution_count": 23,
   "outputs": [],
   "source": [
    "stats_field.to_excel('/Users/jiyounglim/Documents/study/공종설 네트워크 분석/output/stats_field.xlsx')"
   ],
   "metadata": {
    "collapsed": false,
    "pycharm": {
     "name": "#%%\n"
    }
   }
  },
  {
   "cell_type": "code",
   "execution_count": null,
   "outputs": [],
   "source": [],
   "metadata": {
    "collapsed": false,
    "pycharm": {
     "name": "#%%\n"
    }
   }
  }
 ],
 "metadata": {
  "kernelspec": {
   "display_name": "Python 3",
   "language": "python",
   "name": "python3"
  },
  "language_info": {
   "codemirror_mode": {
    "name": "ipython",
    "version": 2
   },
   "file_extension": ".py",
   "mimetype": "text/x-python",
   "name": "python",
   "nbconvert_exporter": "python",
   "pygments_lexer": "ipython2",
   "version": "2.7.6"
  }
 },
 "nbformat": 4,
 "nbformat_minor": 0
}