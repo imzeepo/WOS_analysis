{
 "cells": [
  {
   "cell_type": "code",
   "execution_count": 1,
   "id": "fd631b8f",
   "metadata": {},
   "outputs": [],
   "source": [
    "import pandas as pd\n",
    "import numpy as np\n",
    "from itertools import combinations \n",
    "from collections import defaultdict"
   ]
  },
  {
   "cell_type": "code",
   "execution_count": 2,
   "id": "76fac27f",
   "metadata": {},
   "outputs": [],
   "source": [
    "def get_paper_authors(series):\n",
    "    # remove comma from names\n",
    "    authors = series.str.replace(',','')\n",
    "\n",
    "\n",
    "    # split authors \n",
    "    authors = authors.str.split(pat=';')\n",
    "\n",
    "\n",
    "    # for author in authors: \n",
    "    authors.apply(lambda x : [str(x[i]) for i in range(len(x))] if isinstance(x,str) else x)\n",
    "\n",
    "    # delete first item in each list\n",
    "    authors = authors.apply(lambda x: [x[i].split('/') for i in range(len(x)) ] if isinstance(x,list) else x)\n",
    "    authors = authors.apply(lambda x : [x[i][1:] for i in range(len(x))] if isinstance(x,list) else x)\n",
    "\n",
    "    #authors = authors.apply(lambda x : [x[i] for i in range(len(x)) if i % 2 != 0])\n",
    "    author_id = authors.apply(lambda x : [i for elem in x for i  in elem] if isinstance(x, list) else x)\n",
    "    \n",
    "    return author_id"
   ]
  },
  {
   "cell_type": "code",
   "execution_count": 21,
   "id": "d578fc51",
   "metadata": {},
   "outputs": [],
   "source": [
    "def get_unique_authors(authors):\n",
    "    \n",
    "    # append unique authors to list\n",
    "    unique_authors = list()\n",
    "    for _,names in authors.items():\n",
    "        for name in names : \n",
    "            if name in unique_authors:\n",
    "                continue\n",
    "            else :\n",
    "                unique_authors.append(name)\n",
    "    \n",
    "    # sort in alphabetical order\n",
    "    unique_authors.sort()\n",
    "    \n",
    "    return unique_authors"
   ]
  },
  {
   "cell_type": "code",
   "execution_count": 17,
   "id": "880300e2",
   "metadata": {},
   "outputs": [],
   "source": [
    "def get_coauthor_matrix(series):\n",
    "    # get paper : authors list\n",
    "    paper_authors = get_paper_authors(series)\n",
    "    \n",
    "    coauthor_matrix = defaultdict(lambda: defaultdict(int))\n",
    "\n",
    "    for _, group in paper_authors.items():\n",
    "        # create a list of author combinations for this article\n",
    "        if isinstance(group,list) :\n",
    "            author_pairs = combinations(group, 2)\n",
    "            # update the co-author matrix for each author pair\n",
    "            for pair in author_pairs:\n",
    "                coauthor_matrix[pair[0]][pair[1]] += 1\n",
    "                coauthor_matrix[pair[1]][pair[0]] += 1\n",
    "\n",
    "            \n",
    "    return coauthor_matrix"
   ]
  },
  {
   "cell_type": "code",
   "execution_count": 5,
   "id": "545bda5f",
   "metadata": {},
   "outputs": [],
   "source": [
    "def to_dataframe(dict_file):\n",
    "    df = pd.DataFrame(dict_file)\n",
    "    df.fillna(value=0, inplace=True)\n",
    "    \n",
    "    return df"
   ]
  },
  {
   "cell_type": "code",
   "execution_count": 18,
   "id": "a91f30cf",
   "metadata": {},
   "outputs": [],
   "source": [
    "df_super_conducter = pd.read_excel('super_conducter_science.xls')\n",
    "df_lung_cancer  = pd.read_excel('lung_cancer.xls')"
   ]
  },
  {
   "cell_type": "code",
   "execution_count": 19,
   "id": "4cb6a1b8",
   "metadata": {},
   "outputs": [],
   "source": [
    "coauthor_SC = get_coauthor_matrix(df_super_conducter['Researcher Ids'])\n",
    "coauthor_LC = get_coauthor_matrix(df_lung_cancer['Researcher Ids'])"
   ]
  },
  {
   "cell_type": "code",
   "execution_count": 22,
   "metadata": {},
   "outputs": [],
   "source": [
    "df_coauthor_LC = to_dataframe(coauthor_LC)\n",
    "df_coauthor_SC = to_dataframe(coauthor_SC)"
   ]
  },
  {
   "cell_type": "code",
   "execution_count": 23,
   "metadata": {},
   "outputs": [
    {
     "data": {
      "text/plain": "defaultdict(<function __main__.get_coauthor_matrix.<locals>.<lambda>()>,\n            {'B-1277-2014': defaultdict(int,\n                         {'AAC-5192-2020': 1,\n                          'L-4554-2015': 1,\n                          'H-8031-2014': 1,\n                          'B-7157-2017': 1,\n                          'N-9666-2013': 1,\n                          'M-9715-2015': 1}),\n             'AAC-5192-2020': defaultdict(int,\n                         {'B-1277-2014': 1,\n                          'L-4554-2015': 1,\n                          'H-8031-2014': 1,\n                          'B-7157-2017': 1,\n                          'N-9666-2013': 1,\n                          'M-9715-2015': 1}),\n             'L-4554-2015': defaultdict(int,\n                         {'B-1277-2014': 1,\n                          'AAC-5192-2020': 1,\n                          'H-8031-2014': 1,\n                          'B-7157-2017': 1,\n                          'N-9666-2013': 1,\n                          'M-9715-2015': 1}),\n             'H-8031-2014': defaultdict(int,\n                         {'B-1277-2014': 1,\n                          'AAC-5192-2020': 1,\n                          'L-4554-2015': 1,\n                          'B-7157-2017': 1,\n                          'N-9666-2013': 1,\n                          'M-9715-2015': 1}),\n             'B-7157-2017': defaultdict(int,\n                         {'B-1277-2014': 1,\n                          'AAC-5192-2020': 1,\n                          'L-4554-2015': 1,\n                          'H-8031-2014': 1,\n                          'N-9666-2013': 1,\n                          'M-9715-2015': 1}),\n             'N-9666-2013': defaultdict(int,\n                         {'B-1277-2014': 1,\n                          'AAC-5192-2020': 1,\n                          'L-4554-2015': 1,\n                          'H-8031-2014': 1,\n                          'B-7157-2017': 1,\n                          'M-9715-2015': 1}),\n             'M-9715-2015': defaultdict(int,\n                         {'B-1277-2014': 1,\n                          'AAC-5192-2020': 1,\n                          'L-4554-2015': 1,\n                          'H-8031-2014': 1,\n                          'B-7157-2017': 1,\n                          'N-9666-2013': 1}),\n             'GYV-1209-2022': defaultdict(int, {'AAC-6130-2022': 1}),\n             'AAC-6130-2022': defaultdict(int, {'GYV-1209-2022': 1}),\n             'HNJ-1606-2023': defaultdict(int, {'U-3020-2019': 1}),\n             'U-3020-2019': defaultdict(int,\n                         {'HNJ-1606-2023': 1,\n                          'GNN-0449-2022': 1,\n                          'HOF-9077-2023': 1}),\n             'GRJ-1762-2022': defaultdict(int, {'HDM-9539-2022': 1}),\n             'HDM-9539-2022': defaultdict(int, {'GRJ-1762-2022': 1}),\n             'A-2713-2008': defaultdict(int, {'HMO-9794-2023': 1}),\n             'HMO-9794-2023': defaultdict(int, {'A-2713-2008': 1}),\n             'GWV-5745-2022': defaultdict(int,\n                         {'GVT-8700-2022': 1,\n                          'GZK-5063-2022': 1,\n                          'HTQ-4920-2023': 1,\n                          'HRB-9588-2023': 1,\n                          'HJA-5384-2022': 1,\n                          'GYA-2019-2022': 1,\n                          'GZG-5782-2022': 1,\n                          'GWN-2672-2022': 1}),\n             'GVT-8700-2022': defaultdict(int,\n                         {'GWV-5745-2022': 1,\n                          'GZK-5063-2022': 1,\n                          'HTQ-4920-2023': 1,\n                          'HRB-9588-2023': 1,\n                          'HJA-5384-2022': 1,\n                          'GYA-2019-2022': 1,\n                          'GZG-5782-2022': 1,\n                          'GWN-2672-2022': 1}),\n             'GZK-5063-2022': defaultdict(int,\n                         {'GWV-5745-2022': 1,\n                          'GVT-8700-2022': 1,\n                          'HTQ-4920-2023': 1,\n                          'HRB-9588-2023': 1,\n                          'HJA-5384-2022': 1,\n                          'GYA-2019-2022': 1,\n                          'GZG-5782-2022': 1,\n                          'GWN-2672-2022': 1}),\n             'HTQ-4920-2023': defaultdict(int,\n                         {'GWV-5745-2022': 1,\n                          'GVT-8700-2022': 1,\n                          'GZK-5063-2022': 1,\n                          'HRB-9588-2023': 1,\n                          'HJA-5384-2022': 1,\n                          'GYA-2019-2022': 1,\n                          'GZG-5782-2022': 1,\n                          'GWN-2672-2022': 1}),\n             'HRB-9588-2023': defaultdict(int,\n                         {'GWV-5745-2022': 1,\n                          'GVT-8700-2022': 1,\n                          'GZK-5063-2022': 1,\n                          'HTQ-4920-2023': 1,\n                          'HJA-5384-2022': 1,\n                          'GYA-2019-2022': 1,\n                          'GZG-5782-2022': 1,\n                          'GWN-2672-2022': 1}),\n             'HJA-5384-2022': defaultdict(int,\n                         {'GWV-5745-2022': 1,\n                          'GVT-8700-2022': 1,\n                          'GZK-5063-2022': 1,\n                          'HTQ-4920-2023': 1,\n                          'HRB-9588-2023': 1,\n                          'GYA-2019-2022': 1,\n                          'GZG-5782-2022': 1,\n                          'GWN-2672-2022': 1}),\n             'GYA-2019-2022': defaultdict(int,\n                         {'GWV-5745-2022': 1,\n                          'GVT-8700-2022': 1,\n                          'GZK-5063-2022': 1,\n                          'HTQ-4920-2023': 1,\n                          'HRB-9588-2023': 1,\n                          'HJA-5384-2022': 1,\n                          'GZG-5782-2022': 1,\n                          'GWN-2672-2022': 1}),\n             'GZG-5782-2022': defaultdict(int,\n                         {'GWV-5745-2022': 1,\n                          'GVT-8700-2022': 1,\n                          'GZK-5063-2022': 1,\n                          'HTQ-4920-2023': 1,\n                          'HRB-9588-2023': 1,\n                          'HJA-5384-2022': 1,\n                          'GYA-2019-2022': 1,\n                          'GWN-2672-2022': 1}),\n             'GWN-2672-2022': defaultdict(int,\n                         {'GWV-5745-2022': 1,\n                          'GVT-8700-2022': 1,\n                          'GZK-5063-2022': 1,\n                          'HTQ-4920-2023': 1,\n                          'HRB-9588-2023': 1,\n                          'HJA-5384-2022': 1,\n                          'GYA-2019-2022': 1,\n                          'GZG-5782-2022': 1,\n                          'GZM-3215-2022': 1,\n                          'GXH-5161-2022': 1,\n                          'GYA-2567-2022': 1,\n                          'HKO-0480-2023': 1}),\n             'ABF-2821-2020': defaultdict(int, {'C-9686-2013': 1}),\n             'C-9686-2013': defaultdict(int, {'ABF-2821-2020': 1}),\n             'K-9570-2015': defaultdict(int,\n                         {'AAW-3028-2021': 1, 'AAY-2045-2020': 1}),\n             'AAW-3028-2021': defaultdict(int,\n                         {'K-9570-2015': 1, 'AAY-2045-2020': 1}),\n             'AAY-2045-2020': defaultdict(int,\n                         {'K-9570-2015': 1, 'AAW-3028-2021': 1}),\n             'HGC-8581-2022': defaultdict(int, {'HMV-0355-2023': 2}),\n             'HMV-0355-2023': defaultdict(int, {'HGC-8581-2022': 2}),\n             'AAC-4577-2022': defaultdict(int, {'HDN-7577-2022': 1}),\n             'HDN-7577-2022': defaultdict(int,\n                         {'AAC-4577-2022': 1,\n                          'AAU-7652-2021': 1,\n                          'AFM-1433-2022': 1}),\n             'X-3185-2018': defaultdict(int, {'GOH-1465-2022': 1}),\n             'GOH-1465-2022': defaultdict(int, {'X-3185-2018': 1}),\n             'AAK-1012-2021': defaultdict(int, {'ABI-5855-2020': 1}),\n             'ABI-5855-2020': defaultdict(int, {'AAK-1012-2021': 1}),\n             'AAF-4198-2020': defaultdict(int, {'C-5207-2009': 1}),\n             'C-5207-2009': defaultdict(int, {'AAF-4198-2020': 1}),\n             'AET-3513-2022': defaultdict(int,\n                         {'K-7682-2018': 1,\n                          'L-5366-2018': 2,\n                          'K-3168-2014': 1}),\n             'K-7682-2018': defaultdict(int,\n                         {'AET-3513-2022': 1, 'L-5366-2018': 1}),\n             'L-5366-2018': defaultdict(int,\n                         {'AET-3513-2022': 2,\n                          'K-7682-2018': 1,\n                          'K-3168-2014': 1}),\n             'ABR-9360-2022': defaultdict(int, {'HGD-4686-2022': 1}),\n             'HGD-4686-2022': defaultdict(int, {'ABR-9360-2022': 1}),\n             'AAS-5825-2020': defaultdict(int, {'E-3536-2015': 1}),\n             'E-3536-2015': defaultdict(int, {'AAS-5825-2020': 1}),\n             'L-4429-2016': defaultdict(int, {'N-4927-2016': 1}),\n             'N-4927-2016': defaultdict(int, {'L-4429-2016': 1}),\n             'HNC-2001-2023': defaultdict(int, {'Q-6479-2018': 1}),\n             'Q-6479-2018': defaultdict(int, {'HNC-2001-2023': 1}),\n             'AAD-8310-2021': defaultdict(int, {'AAC-9218-2019': 1}),\n             'AAC-9218-2019': defaultdict(int, {'AAD-8310-2021': 1}),\n             'A-2791-2012': defaultdict(int, {'A-2340-2011': 1}),\n             'A-2340-2011': defaultdict(int, {'A-2791-2012': 1}),\n             'ABE-8586-2020': defaultdict(int,\n                         {'I-1772-2015': 1, 'ADA-6849-2022': 1}),\n             'I-1772-2015': defaultdict(int, {'ABE-8586-2020': 1}),\n             'HKO-3996-2023': defaultdict(int,\n                         {'AAA-1360-2021': 1, 'W-1872-2019': 1}),\n             'AAA-1360-2021': defaultdict(int,\n                         {'HKO-3996-2023': 1, 'W-1872-2019': 1}),\n             'W-1872-2019': defaultdict(int,\n                         {'HKO-3996-2023': 1, 'AAA-1360-2021': 1}),\n             'HWQ-4762-2023': defaultdict(int, {'ABG-2281-2021': 1}),\n             'ABG-2281-2021': defaultdict(int, {'HWQ-4762-2023': 1}),\n             'K-3168-2014': defaultdict(int,\n                         {'AET-3513-2022': 1, 'L-5366-2018': 1}),\n             'E-9868-2010': defaultdict(int, {'C-4310-2009': 1}),\n             'C-4310-2009': defaultdict(int, {'E-9868-2010': 1}),\n             'AFE-7659-2022': defaultdict(int, {'AAZ-4876-2021': 1}),\n             'AAZ-4876-2021': defaultdict(int, {'AFE-7659-2022': 1}),\n             'HKM-4100-2023': defaultdict(int, {'ADY-3755-2022': 1}),\n             'ADY-3755-2022': defaultdict(int, {'HKM-4100-2023': 1}),\n             'I-7962-2012': defaultdict(int, {'B-1662-2012': 1}),\n             'B-1662-2012': defaultdict(int, {'I-7962-2012': 1}),\n             'AAY-3178-2021': defaultdict(int, {'F-9248-2014': 1}),\n             'F-9248-2014': defaultdict(int, {'AAY-3178-2021': 1}),\n             'AIB-8104-2022': defaultdict(int,\n                         {'ABH-2274-2021': 1, 'GLT-2078-2022': 1}),\n             'ABH-2274-2021': defaultdict(int,\n                         {'AIB-8104-2022': 1, 'GLT-2078-2022': 1}),\n             'GLT-2078-2022': defaultdict(int,\n                         {'AIB-8104-2022': 1, 'ABH-2274-2021': 1}),\n             'GWM-5233-2022': defaultdict(int,\n                         {'AIA-6756-2022': 1,\n                          'K-1902-2018': 1,\n                          'AAH-9654-2019': 1}),\n             'AIA-6756-2022': defaultdict(int,\n                         {'GWM-5233-2022': 1,\n                          'K-1902-2018': 1,\n                          'AAH-9654-2019': 1}),\n             'K-1902-2018': defaultdict(int,\n                         {'GWM-5233-2022': 1,\n                          'AIA-6756-2022': 1,\n                          'AAH-9654-2019': 1}),\n             'AAH-9654-2019': defaultdict(int,\n                         {'GWM-5233-2022': 1,\n                          'AIA-6756-2022': 1,\n                          'K-1902-2018': 1}),\n             'AHE-8414-2022': defaultdict(int, {'GSD-3218-2022': 1}),\n             'GSD-3218-2022': defaultdict(int, {'AHE-8414-2022': 1}),\n             'B-1744-2018': defaultdict(int,\n                         {'I-3113-2016': 1,\n                          'C-1302-2014': 1,\n                          'HNC-4200-2023': 1}),\n             'I-3113-2016': defaultdict(int,\n                         {'B-1744-2018': 1, 'C-1302-2014': 1}),\n             'C-1302-2014': defaultdict(int,\n                         {'B-1744-2018': 1, 'I-3113-2016': 1}),\n             'X-7019-2019': defaultdict(int,\n                         {'HHM-3287-2022': 1,\n                          'I-8729-2017': 1,\n                          'V-7945-2017': 1}),\n             'HHM-3287-2022': defaultdict(int,\n                         {'X-7019-2019': 1,\n                          'I-8729-2017': 1,\n                          'V-7945-2017': 1}),\n             'I-8729-2017': defaultdict(int,\n                         {'X-7019-2019': 1,\n                          'HHM-3287-2022': 1,\n                          'V-7945-2017': 1}),\n             'V-7945-2017': defaultdict(int,\n                         {'X-7019-2019': 1,\n                          'HHM-3287-2022': 1,\n                          'I-8729-2017': 1}),\n             'GNH-2739-2022': defaultdict(int, {'HKM-8139-2023': 1}),\n             'HKM-8139-2023': defaultdict(int, {'GNH-2739-2022': 1}),\n             'HHN-0253-2022': defaultdict(int,\n                         {'AAG-9330-2020': 1, 'E-2096-2019': 1}),\n             'AAG-9330-2020': defaultdict(int,\n                         {'HHN-0253-2022': 1, 'E-2096-2019': 1}),\n             'E-2096-2019': defaultdict(int,\n                         {'HHN-0253-2022': 1, 'AAG-9330-2020': 1}),\n             'GZM-3215-2022': defaultdict(int,\n                         {'GWN-2672-2022': 1,\n                          'GXH-5161-2022': 1,\n                          'GYA-2567-2022': 1,\n                          'HKO-0480-2023': 1}),\n             'GXH-5161-2022': defaultdict(int,\n                         {'GZM-3215-2022': 1,\n                          'GWN-2672-2022': 1,\n                          'GYA-2567-2022': 1,\n                          'HKO-0480-2023': 1}),\n             'GYA-2567-2022': defaultdict(int,\n                         {'GZM-3215-2022': 1,\n                          'GWN-2672-2022': 1,\n                          'GXH-5161-2022': 1,\n                          'HKO-0480-2023': 1}),\n             'HKO-0480-2023': defaultdict(int,\n                         {'GZM-3215-2022': 1,\n                          'GWN-2672-2022': 1,\n                          'GXH-5161-2022': 1,\n                          'GYA-2567-2022': 1,\n                          'HKV-8405-2023': 1,\n                          'HGA-6843-2022': 1,\n                          'HTN-4916-2023': 1,\n                          'HMD-9231-2023': 1,\n                          'HNS-5948-2023': 1}),\n             'GNN-0449-2022': defaultdict(int,\n                         {'U-3020-2019': 1, 'HOF-9077-2023': 1}),\n             'HOF-9077-2023': defaultdict(int,\n                         {'U-3020-2019': 1, 'GNN-0449-2022': 1}),\n             'AAU-7652-2021': defaultdict(int,\n                         {'HDN-7577-2022': 1, 'AFM-1433-2022': 1}),\n             'AFM-1433-2022': defaultdict(int,\n                         {'AAU-7652-2021': 1, 'HDN-7577-2022': 1}),\n             'HKE-5980-2023': defaultdict(int,\n                         {'GRR-6343-2022': 1,\n                          'HQZ-3533-2023': 1,\n                          'AAF-3545-2019': 1}),\n             'GRR-6343-2022': defaultdict(int,\n                         {'HKE-5980-2023': 1,\n                          'HQZ-3533-2023': 1,\n                          'AAF-3545-2019': 1}),\n             'HQZ-3533-2023': defaultdict(int,\n                         {'HKE-5980-2023': 1,\n                          'GRR-6343-2022': 1,\n                          'AAF-3545-2019': 1}),\n             'AAF-3545-2019': defaultdict(int,\n                         {'HKE-5980-2023': 1,\n                          'GRR-6343-2022': 1,\n                          'HQZ-3533-2023': 1}),\n             'GNW-6274-2022': defaultdict(int, {'GRX-5451-2022': 1}),\n             'GRX-5451-2022': defaultdict(int, {'GNW-6274-2022': 1}),\n             'AAG-1313-2021': defaultdict(int, {'AAE-8428-2019': 1}),\n             'AAE-8428-2019': defaultdict(int, {'AAG-1313-2021': 1}),\n             'AHE-5783-2022': defaultdict(int, {'H-4784-2019': 1}),\n             'H-4784-2019': defaultdict(int, {'AHE-5783-2022': 1}),\n             'ADA-6849-2022': defaultdict(int, {'ABE-8586-2020': 1}),\n             'AAV-7303-2020': defaultdict(int,\n                         {'K-7916-2014': 1, 'H-4320-2015': 1}),\n             'K-7916-2014': defaultdict(int,\n                         {'AAV-7303-2020': 1, 'H-4320-2015': 1}),\n             'H-4320-2015': defaultdict(int,\n                         {'AAV-7303-2020': 1, 'K-7916-2014': 1}),\n             'N-6170-2015': defaultdict(int, {'J-6468-2018': 1}),\n             'J-6468-2018': defaultdict(int, {'N-6170-2015': 1}),\n             'AFV-7435-2022': defaultdict(int,\n                         {'AAX-4994-2020': 1, 'D-4178-2009': 1}),\n             'AAX-4994-2020': defaultdict(int,\n                         {'AFV-7435-2022': 1, 'D-4178-2009': 1}),\n             'D-4178-2009': defaultdict(int,\n                         {'AFV-7435-2022': 1, 'AAX-4994-2020': 1}),\n             'AAC-1387-2019': defaultdict(int, {'A-7209-2008': 1}),\n             'A-7209-2008': defaultdict(int, {'AAC-1387-2019': 1}),\n             'AAB-1160-2019': defaultdict(int, {'F-9948-2015': 1}),\n             'F-9948-2015': defaultdict(int, {'AAB-1160-2019': 1}),\n             'HDM-6169-2022': defaultdict(int,\n                         {'J-6461-2014': 1, 'HSI-4353-2023': 1}),\n             'J-6461-2014': defaultdict(int,\n                         {'HDM-6169-2022': 1, 'HSI-4353-2023': 1}),\n             'HSI-4353-2023': defaultdict(int,\n                         {'HDM-6169-2022': 1, 'J-6461-2014': 1}),\n             'AAQ-6005-2021': defaultdict(int, {'L-3355-2019': 1}),\n             'L-3355-2019': defaultdict(int, {'AAQ-6005-2021': 1}),\n             'HJY-6145-2023': defaultdict(int, {'HLW-9493-2023': 1}),\n             'HLW-9493-2023': defaultdict(int, {'HJY-6145-2023': 1}),\n             'AAV-1872-2020': defaultdict(int, {'K-7316-2016': 1}),\n             'K-7316-2016': defaultdict(int, {'AAV-1872-2020': 1}),\n             'HKV-8405-2023': defaultdict(int,\n                         {'HGA-6843-2022': 1,\n                          'HTN-4916-2023': 1,\n                          'HMD-9231-2023': 1,\n                          'HNS-5948-2023': 1,\n                          'HKO-0480-2023': 1}),\n             'HGA-6843-2022': defaultdict(int,\n                         {'HKV-8405-2023': 1,\n                          'HTN-4916-2023': 1,\n                          'HMD-9231-2023': 1,\n                          'HNS-5948-2023': 1,\n                          'HKO-0480-2023': 1}),\n             'HTN-4916-2023': defaultdict(int,\n                         {'HKV-8405-2023': 1,\n                          'HGA-6843-2022': 1,\n                          'HMD-9231-2023': 1,\n                          'HNS-5948-2023': 1,\n                          'HKO-0480-2023': 1}),\n             'HMD-9231-2023': defaultdict(int,\n                         {'HKV-8405-2023': 1,\n                          'HGA-6843-2022': 1,\n                          'HTN-4916-2023': 1,\n                          'HNS-5948-2023': 1,\n                          'HKO-0480-2023': 1}),\n             'HNS-5948-2023': defaultdict(int,\n                         {'HKV-8405-2023': 1,\n                          'HGA-6843-2022': 1,\n                          'HTN-4916-2023': 1,\n                          'HMD-9231-2023': 1,\n                          'HKO-0480-2023': 1}),\n             'HJG-7364-2022': defaultdict(int,\n                         {'G-3725-2018': 1,\n                          'K-1965-2016': 1,\n                          'K-9990-2016': 1}),\n             'G-3725-2018': defaultdict(int,\n                         {'HJG-7364-2022': 1,\n                          'K-1965-2016': 1,\n                          'K-9990-2016': 1}),\n             'K-1965-2016': defaultdict(int,\n                         {'HJG-7364-2022': 1,\n                          'G-3725-2018': 1,\n                          'K-9990-2016': 1}),\n             'K-9990-2016': defaultdict(int,\n                         {'HJG-7364-2022': 1,\n                          'G-3725-2018': 1,\n                          'K-1965-2016': 1}),\n             'HPG-8299-2023': defaultdict(int, {'AGZ-9695-2022': 1}),\n             'AGZ-9695-2022': defaultdict(int, {'HPG-8299-2023': 1}),\n             'C-4314-2013': defaultdict(int, {'AAV-4862-2021': 1}),\n             'AAV-4862-2021': defaultdict(int, {'C-4314-2013': 1}),\n             'GRO-1953-2022': defaultdict(int, {'L-7809-2015': 1}),\n             'L-7809-2015': defaultdict(int, {'GRO-1953-2022': 1}),\n             'GYV-3258-2022': defaultdict(int, {'AFQ-2724-2022': 1}),\n             'AFQ-2724-2022': defaultdict(int, {'GYV-3258-2022': 1}),\n             'HNC-4200-2023': defaultdict(int, {'B-1744-2018': 1}),\n             'HCI-5197-2022': defaultdict(int, {'GXF-1216-2022': 1}),\n             'GXF-1216-2022': defaultdict(int, {'HCI-5197-2022': 1}),\n             'ABA-2618-2022': defaultdict(int, {'HNI-7007-2023': 1}),\n             'HNI-7007-2023': defaultdict(int, {'ABA-2618-2022': 1}),\n             'H-3539-2019': defaultdict(int, {'AEA-3762-2022': 1}),\n             'AEA-3762-2022': defaultdict(int, {'H-3539-2019': 1}),\n             'HPH-1498-2023': defaultdict(int, {'ABW-6789-2022': 1}),\n             'ABW-6789-2022': defaultdict(int, {'HPH-1498-2023': 1}),\n             'HHS-6413-2022': defaultdict(int,\n                         {'W-7647-2018': 1,\n                          'HLW-5850-2023': 1,\n                          'K-9393-2018': 1,\n                          'X-4321-2018': 1}),\n             'W-7647-2018': defaultdict(int,\n                         {'HHS-6413-2022': 1,\n                          'HLW-5850-2023': 1,\n                          'K-9393-2018': 1,\n                          'X-4321-2018': 1}),\n             'HLW-5850-2023': defaultdict(int,\n                         {'HHS-6413-2022': 1,\n                          'W-7647-2018': 1,\n                          'K-9393-2018': 1,\n                          'X-4321-2018': 1}),\n             'K-9393-2018': defaultdict(int,\n                         {'HHS-6413-2022': 1,\n                          'W-7647-2018': 1,\n                          'HLW-5850-2023': 1,\n                          'X-4321-2018': 1}),\n             'X-4321-2018': defaultdict(int,\n                         {'HHS-6413-2022': 1,\n                          'W-7647-2018': 1,\n                          'HLW-5850-2023': 1,\n                          'K-9393-2018': 1}),\n             'GZK-4168-2022': defaultdict(int, {'P-6252-2018': 1}),\n             'P-6252-2018': defaultdict(int, {'GZK-4168-2022': 1}),\n             'AAE-8650-2020': defaultdict(int,\n                         {'R-4477-2018': 1, 'A-2395-2013': 1}),\n             'R-4477-2018': defaultdict(int,\n                         {'AAE-8650-2020': 1, 'A-2395-2013': 1}),\n             'A-2395-2013': defaultdict(int,\n                         {'AAE-8650-2020': 1, 'R-4477-2018': 1}),\n             'S-5576-2019': defaultdict(int,\n                         {'GPW-6918-2022': 1,\n                          'P-9929-2019': 1,\n                          'AAW-3113-2020': 1,\n                          'AAC-7705-2019': 1,\n                          'P-2559-2015': 1}),\n             'GPW-6918-2022': defaultdict(int,\n                         {'S-5576-2019': 1,\n                          'P-9929-2019': 1,\n                          'AAW-3113-2020': 1,\n                          'AAC-7705-2019': 1,\n                          'P-2559-2015': 1}),\n             'P-9929-2019': defaultdict(int,\n                         {'S-5576-2019': 1,\n                          'GPW-6918-2022': 1,\n                          'AAW-3113-2020': 1,\n                          'AAC-7705-2019': 1,\n                          'P-2559-2015': 1}),\n             'AAW-3113-2020': defaultdict(int,\n                         {'S-5576-2019': 1,\n                          'GPW-6918-2022': 1,\n                          'P-9929-2019': 1,\n                          'AAC-7705-2019': 1,\n                          'P-2559-2015': 1}),\n             'AAC-7705-2019': defaultdict(int,\n                         {'S-5576-2019': 1,\n                          'GPW-6918-2022': 1,\n                          'P-9929-2019': 1,\n                          'AAW-3113-2020': 1,\n                          'P-2559-2015': 1}),\n             'P-2559-2015': defaultdict(int,\n                         {'S-5576-2019': 1,\n                          'GPW-6918-2022': 1,\n                          'P-9929-2019': 1,\n                          'AAW-3113-2020': 1,\n                          'AAC-7705-2019': 1}),\n             'C-4495-2009': defaultdict(int,\n                         {'C-4324-2009': 1, 'Z-3985-2019': 1}),\n             'C-4324-2009': defaultdict(int,\n                         {'C-4495-2009': 1, 'Z-3985-2019': 1}),\n             'Z-3985-2019': defaultdict(int,\n                         {'C-4495-2009': 1, 'C-4324-2009': 1}),\n             'HTO-5007-2023': defaultdict(int, {'A-1292-2009': 1}),\n             'A-1292-2009': defaultdict(int, {'HTO-5007-2023': 1}),\n             'K-5816-2017': defaultdict(int,\n                         {'P-6831-2014': 1, 'O-7399-2017': 1}),\n             'P-6831-2014': defaultdict(int,\n                         {'K-5816-2017': 1, 'O-7399-2017': 1}),\n             'O-7399-2017': defaultdict(int,\n                         {'K-5816-2017': 1, 'P-6831-2014': 1})})"
     },
     "execution_count": 23,
     "metadata": {},
     "output_type": "execute_result"
    }
   ],
   "source": [
    "coauthor_LC"
   ]
  },
  {
   "cell_type": "code",
   "execution_count": 24,
   "metadata": {},
   "outputs": [],
   "source": [
    "df_coauthor_LC.to_csv('coauthor_lung_cancer.csv', index=True)"
   ]
  },
  {
   "cell_type": "code",
   "execution_count": 25,
   "metadata": {},
   "outputs": [],
   "source": [
    "df_coauthor_SC.to_csv('coauthor_super_conducter.csv', index=True)"
   ]
  },
  {
   "cell_type": "code",
   "execution_count": 28,
   "outputs": [
    {
     "data": {
      "text/plain": "               B-1277-2014  AAC-5192-2020  L-4554-2015  H-8031-2014   \nAAC-5192-2020          1.0            0.0          1.0          1.0  \\\nL-4554-2015            1.0            1.0          0.0          1.0   \nH-8031-2014            1.0            1.0          1.0          0.0   \nB-7157-2017            1.0            1.0          1.0          1.0   \nN-9666-2013            1.0            1.0          1.0          1.0   \n\n               B-7157-2017  N-9666-2013  M-9715-2015  GYV-1209-2022   \nAAC-5192-2020          1.0          1.0          1.0            0.0  \\\nL-4554-2015            1.0          1.0          1.0            0.0   \nH-8031-2014            1.0          1.0          1.0            0.0   \nB-7157-2017            0.0          1.0          1.0            0.0   \nN-9666-2013            1.0          0.0          1.0            0.0   \n\n               AAC-6130-2022  HNJ-1606-2023  ...  AAC-7705-2019  P-2559-2015   \nAAC-5192-2020            0.0            0.0  ...            0.0          0.0  \\\nL-4554-2015              0.0            0.0  ...            0.0          0.0   \nH-8031-2014              0.0            0.0  ...            0.0          0.0   \nB-7157-2017              0.0            0.0  ...            0.0          0.0   \nN-9666-2013              0.0            0.0  ...            0.0          0.0   \n\n               C-4495-2009  C-4324-2009  Z-3985-2019  HTO-5007-2023   \nAAC-5192-2020          0.0          0.0          0.0            0.0  \\\nL-4554-2015            0.0          0.0          0.0            0.0   \nH-8031-2014            0.0          0.0          0.0            0.0   \nB-7157-2017            0.0          0.0          0.0            0.0   \nN-9666-2013            0.0          0.0          0.0            0.0   \n\n               A-1292-2009  K-5816-2017  P-6831-2014  O-7399-2017  \nAAC-5192-2020          0.0          0.0          0.0          0.0  \nL-4554-2015            0.0          0.0          0.0          0.0  \nH-8031-2014            0.0          0.0          0.0          0.0  \nB-7157-2017            0.0          0.0          0.0          0.0  \nN-9666-2013            0.0          0.0          0.0          0.0  \n\n[5 rows x 183 columns]",
      "text/html": "<div>\n<style scoped>\n    .dataframe tbody tr th:only-of-type {\n        vertical-align: middle;\n    }\n\n    .dataframe tbody tr th {\n        vertical-align: top;\n    }\n\n    .dataframe thead th {\n        text-align: right;\n    }\n</style>\n<table border=\"1\" class=\"dataframe\">\n  <thead>\n    <tr style=\"text-align: right;\">\n      <th></th>\n      <th>B-1277-2014</th>\n      <th>AAC-5192-2020</th>\n      <th>L-4554-2015</th>\n      <th>H-8031-2014</th>\n      <th>B-7157-2017</th>\n      <th>N-9666-2013</th>\n      <th>M-9715-2015</th>\n      <th>GYV-1209-2022</th>\n      <th>AAC-6130-2022</th>\n      <th>HNJ-1606-2023</th>\n      <th>...</th>\n      <th>AAC-7705-2019</th>\n      <th>P-2559-2015</th>\n      <th>C-4495-2009</th>\n      <th>C-4324-2009</th>\n      <th>Z-3985-2019</th>\n      <th>HTO-5007-2023</th>\n      <th>A-1292-2009</th>\n      <th>K-5816-2017</th>\n      <th>P-6831-2014</th>\n      <th>O-7399-2017</th>\n    </tr>\n  </thead>\n  <tbody>\n    <tr>\n      <th>AAC-5192-2020</th>\n      <td>1.0</td>\n      <td>0.0</td>\n      <td>1.0</td>\n      <td>1.0</td>\n      <td>1.0</td>\n      <td>1.0</td>\n      <td>1.0</td>\n      <td>0.0</td>\n      <td>0.0</td>\n      <td>0.0</td>\n      <td>...</td>\n      <td>0.0</td>\n      <td>0.0</td>\n      <td>0.0</td>\n      <td>0.0</td>\n      <td>0.0</td>\n      <td>0.0</td>\n      <td>0.0</td>\n      <td>0.0</td>\n      <td>0.0</td>\n      <td>0.0</td>\n    </tr>\n    <tr>\n      <th>L-4554-2015</th>\n      <td>1.0</td>\n      <td>1.0</td>\n      <td>0.0</td>\n      <td>1.0</td>\n      <td>1.0</td>\n      <td>1.0</td>\n      <td>1.0</td>\n      <td>0.0</td>\n      <td>0.0</td>\n      <td>0.0</td>\n      <td>...</td>\n      <td>0.0</td>\n      <td>0.0</td>\n      <td>0.0</td>\n      <td>0.0</td>\n      <td>0.0</td>\n      <td>0.0</td>\n      <td>0.0</td>\n      <td>0.0</td>\n      <td>0.0</td>\n      <td>0.0</td>\n    </tr>\n    <tr>\n      <th>H-8031-2014</th>\n      <td>1.0</td>\n      <td>1.0</td>\n      <td>1.0</td>\n      <td>0.0</td>\n      <td>1.0</td>\n      <td>1.0</td>\n      <td>1.0</td>\n      <td>0.0</td>\n      <td>0.0</td>\n      <td>0.0</td>\n      <td>...</td>\n      <td>0.0</td>\n      <td>0.0</td>\n      <td>0.0</td>\n      <td>0.0</td>\n      <td>0.0</td>\n      <td>0.0</td>\n      <td>0.0</td>\n      <td>0.0</td>\n      <td>0.0</td>\n      <td>0.0</td>\n    </tr>\n    <tr>\n      <th>B-7157-2017</th>\n      <td>1.0</td>\n      <td>1.0</td>\n      <td>1.0</td>\n      <td>1.0</td>\n      <td>0.0</td>\n      <td>1.0</td>\n      <td>1.0</td>\n      <td>0.0</td>\n      <td>0.0</td>\n      <td>0.0</td>\n      <td>...</td>\n      <td>0.0</td>\n      <td>0.0</td>\n      <td>0.0</td>\n      <td>0.0</td>\n      <td>0.0</td>\n      <td>0.0</td>\n      <td>0.0</td>\n      <td>0.0</td>\n      <td>0.0</td>\n      <td>0.0</td>\n    </tr>\n    <tr>\n      <th>N-9666-2013</th>\n      <td>1.0</td>\n      <td>1.0</td>\n      <td>1.0</td>\n      <td>1.0</td>\n      <td>1.0</td>\n      <td>0.0</td>\n      <td>1.0</td>\n      <td>0.0</td>\n      <td>0.0</td>\n      <td>0.0</td>\n      <td>...</td>\n      <td>0.0</td>\n      <td>0.0</td>\n      <td>0.0</td>\n      <td>0.0</td>\n      <td>0.0</td>\n      <td>0.0</td>\n      <td>0.0</td>\n      <td>0.0</td>\n      <td>0.0</td>\n      <td>0.0</td>\n    </tr>\n  </tbody>\n</table>\n<p>5 rows × 183 columns</p>\n</div>"
     },
     "execution_count": 28,
     "metadata": {},
     "output_type": "execute_result"
    }
   ],
   "source": [
    "df_coauthor_LC.head()"
   ],
   "metadata": {
    "collapsed": false,
    "pycharm": {
     "name": "#%%\n"
    }
   }
  },
  {
   "cell_type": "code",
   "execution_count": 29,
   "outputs": [],
   "source": [
    "df = pd.DataFrame(coauthor_LC)"
   ],
   "metadata": {
    "collapsed": false,
    "pycharm": {
     "name": "#%%\n"
    }
   }
  },
  {
   "cell_type": "code",
   "execution_count": 31,
   "outputs": [],
   "source": [
    "df.fillna(0, inplace=True)"
   ],
   "metadata": {
    "collapsed": false,
    "pycharm": {
     "name": "#%%\n"
    }
   }
  },
  {
   "cell_type": "code",
   "execution_count": 33,
   "outputs": [
    {
     "data": {
      "text/plain": "Index(['AAC-5192-2020', 'L-4554-2015', 'H-8031-2014', 'B-7157-2017',\n       'N-9666-2013', 'M-9715-2015', 'B-1277-2014', 'AAC-6130-2022',\n       'GYV-1209-2022', 'U-3020-2019',\n       ...\n       'P-2559-2015', 'S-5576-2019', 'C-4324-2009', 'Z-3985-2019',\n       'C-4495-2009', 'A-1292-2009', 'HTO-5007-2023', 'P-6831-2014',\n       'O-7399-2017', 'K-5816-2017'],\n      dtype='object', length=183)"
     },
     "execution_count": 33,
     "metadata": {},
     "output_type": "execute_result"
    }
   ],
   "source": [
    "df.index"
   ],
   "metadata": {
    "collapsed": false,
    "pycharm": {
     "name": "#%%\n"
    }
   }
  },
  {
   "cell_type": "code",
   "execution_count": null,
   "outputs": [],
   "source": [],
   "metadata": {
    "collapsed": false,
    "pycharm": {
     "name": "#%%\n"
    }
   }
  }
 ],
 "metadata": {
  "kernelspec": {
   "display_name": "Python 3 (ipykernel)",
   "language": "python",
   "name": "python3"
  },
  "language_info": {
   "codemirror_mode": {
    "name": "ipython",
    "version": 3
   },
   "file_extension": ".py",
   "mimetype": "text/x-python",
   "name": "python",
   "nbconvert_exporter": "python",
   "pygments_lexer": "ipython3",
   "version": "3.7.16"
  }
 },
 "nbformat": 4,
 "nbformat_minor": 1
}