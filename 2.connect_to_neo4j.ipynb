{
 "cells": [
  {
   "cell_type": "code",
   "execution_count": 44,
   "id": "eb498b19",
   "metadata": {},
   "outputs": [],
   "source": [
    "from neo4j import GraphDatabase\n",
    "import pandas as pd"
   ]
  },
  {
   "cell_type": "code",
   "execution_count": 45,
   "id": "ef17e611",
   "metadata": {},
   "outputs": [],
   "source": [
    "uri ='bolt://localhost:7687'\n",
    "user = 'neo4j'\n",
    "password = '09150915'\n",
    "\n",
    "driver = GraphDatabase.driver(uri, auth=(user,password))"
   ]
  },
  {
   "cell_type": "code",
   "execution_count": 47,
   "id": "7ee9224b",
   "metadata": {},
   "outputs": [],
   "source": [
    "df_coauthor_LC = pd.read_csv('coauthor_lung_cancer.csv')\n",
    "df_coauthor_SC = pd.read_csv('coauthor_super_conducter.csv')"
   ]
  },
  {
   "cell_type": "code",
   "execution_count": 76,
   "outputs": [],
   "source": [
    "create_coauthor_graph(df_coauthor_LC, 'lung_cancer')"
   ],
   "metadata": {
    "collapsed": false,
    "pycharm": {
     "name": "#%%\n"
    }
   }
  },
  {
   "cell_type": "code",
   "execution_count": 77,
   "outputs": [],
   "source": [
    "create_coauthor_graph(df_coauthor_SC, 'super_conducter')"
   ],
   "metadata": {
    "collapsed": false,
    "pycharm": {
     "name": "#%%\n"
    }
   }
  },
  {
   "cell_type": "code",
   "execution_count": 70,
   "id": "c22d7fc1",
   "metadata": {
    "pycharm": {
     "name": "#%%\n"
    }
   },
   "outputs": [
    {
     "name": "stdout",
     "output_type": "stream",
     "text": [
      "{'field': 'super_conducter', 'num_authors': 224, 'num_authors_FastRP': 224, 'num_edges': 206, 'degree_centrality_max': 17.00011444091797, 'degree_centrality_mean': 0.9196454456874302, 'num_community': 166, 'num_authors_in_main_component': 20}\n"
     ]
    }
   ],
   "source": [
    "result = calculate_graph_stats_for_field('super_conducter')\n",
    "\n",
    "print(result)"
   ]
  },
  {
   "cell_type": "code",
   "execution_count": null,
   "outputs": [],
   "source": [
    "concat_df()"
   ],
   "metadata": {
    "collapsed": false,
    "pycharm": {
     "name": "#%%\n"
    }
   }
  }
 ],
 "metadata": {
  "kernelspec": {
   "display_name": "Python 3 (ipykernel)",
   "language": "python",
   "name": "python3"
  },
  "language_info": {
   "codemirror_mode": {
    "name": "ipython",
    "version": 3
   },
   "file_extension": ".py",
   "mimetype": "text/x-python",
   "name": "python",
   "nbconvert_exporter": "python",
   "pygments_lexer": "ipython3",
   "version": "3.7.16"
  }
 },
 "nbformat": 4,
 "nbformat_minor": 5
}