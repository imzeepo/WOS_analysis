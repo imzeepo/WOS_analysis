{
 "cells": [
  {
   "cell_type": "code",
   "execution_count": 44,
   "id": "eb498b19",
   "metadata": {},
   "outputs": [],
   "source": [
    "from neo4j import GraphDatabase\n",
    "import pandas as pd"
   ]
  },
  {
   "cell_type": "code",
   "execution_count": 45,
   "id": "ef17e611",
   "metadata": {},
   "outputs": [],
   "source": [
    "uri ='bolt://localhost:7687'\n",
    "user = 'neo4j'\n",
    "password = '09150915'\n",
    "\n",
    "driver = GraphDatabase.driver(uri, auth=(user,password))"
   ]
  },
  {
   "cell_type": "code",
   "execution_count": 47,
   "id": "7ee9224b",
   "metadata": {},
   "outputs": [],
   "source": [
    "df_coauthor_LC = pd.read_csv('coauthor_lung_cancer.csv')\n",
    "df_coauthor_SC = pd.read_csv('coauthor_super_conducter.csv')"
   ]
  },
  {
   "cell_type": "code",
   "execution_count": 75,
   "outputs": [],
   "source": [
    "def create_coauthor_graph(df, field) :\n",
    "    authors = df['Unnamed: 0']\n",
    "    # make author nodes\n",
    "    with driver.session() as session:\n",
    "        for author in authors:\n",
    "            session.run(\"MERGE (a:Author {name: $name, field : $field})\", name=author, field=field)\n",
    "\n",
    "    # make edges with weights\n",
    "    with driver.session() as session:\n",
    "        for i in range(len(authors)) :\n",
    "            for j in range(i+1, len(authors)):\n",
    "                weight = df.iloc[i,j]\n",
    "                if weight > 0:\n",
    "                    session.run(\"MATCH (a1:Author {name: $name1}), (a2:Author {name: $name2}) MERGE (a1)-[:COAUTHOR {weight: $weight}]->(a2)\", name1=authors[i], name2=authors[j], weight=weight)"
   ],
   "metadata": {
    "collapsed": false,
    "pycharm": {
     "name": "#%%\n"
    }
   }
  },
  {
   "cell_type": "code",
   "execution_count": 68,
   "id": "f60442af",
   "metadata": {},
   "outputs": [],
   "source": [
    "# Define a function to calculate graph statistics for each field\n",
    "def calculate_graph_stats_for_field(field):\n",
    "\n",
    "    # get number of nodes (i.e. number of authors)\n",
    "    with driver.session() as session :\n",
    "        result = session.run(f'''\n",
    "            MATCH (n:Author {{field: \"{field}\"}}) RETURN count(n) as num_nodes\n",
    "            ''')\n",
    "\n",
    "        num_authors = result.single()['num_nodes']\n",
    "\n",
    "\n",
    "    # get number of edges (i.e. number of coauthor relationships\n",
    "    with driver.session() as session :\n",
    "        result = session.run(f'''\n",
    "        MATCH p=({{field: \"{field}\"}})-[r:COAUTHOR]->({{field: \"{field}\"}}) RETURN count(r) as num_edges\n",
    "        ''')\n",
    "        num_edges = result.single()['num_edges']\n",
    "\n",
    "\n",
    "    # project field network to gds library\n",
    "    with driver.session() as session :\n",
    "        session.run(f'''\n",
    "        CALL gds.graph.project.cypher(\n",
    "            '{field}',\n",
    "            'MATCH (a:Author {{field: \"{field}\"}}) RETURN id(a) AS id',\n",
    "            'MATCH (n)-[r:COAUTHOR]->(m) RETURN id(n) AS source, id(m) AS target',\n",
    "            {{validateRelationships:False}})\n",
    "        YIELD graphName AS graph, nodeQuery, nodeCount AS nodes, relationshipQuery, relationshipCount AS rels''')\n",
    "\n",
    "\n",
    "    # run FastRP algorithm for embedding graph\n",
    "    with driver.session() as session :\n",
    "        result = session.run(f'''\n",
    "            CALL gds.fastRP.mutate('{field}',{{\n",
    "                embeddingDimension: 10,\n",
    "                randomSeed: 42,\n",
    "                mutateProperty: 'embedding'}})\n",
    "            YIELD nodePropertiesWritten\n",
    "        ''')\n",
    "        num_author_RP = result.single()['nodePropertiesWritten']\n",
    "\n",
    "\n",
    "    # get mean degree centrality value for graph\n",
    "    with driver.session() as session:\n",
    "        result = session.run(f'''\n",
    "        CALL gds.degree.stats('{field}')\n",
    "        YIELD centralityDistribution\n",
    "        RETURN centralityDistribution.max AS minimumScore, centralityDistribution.mean AS meanScore''')\n",
    "\n",
    "        max_centrality, mean_centrality = result.single()\n",
    "\n",
    "\n",
    "    # get number of cluster components in graph - louvain algorithm\n",
    "    with driver.session() as session :\n",
    "        result = session.run(f'''\n",
    "        CALL gds.louvain.stats('{field}')\n",
    "        YIELD communityCount''')\n",
    "\n",
    "        community_count = result.single()['communityCount']\n",
    "\n",
    "\n",
    "    # get number of authors in the largest community of the graph\n",
    "    with driver.session() as session :\n",
    "        result = session.run(f'''\n",
    "        CALL gds.louvain.stream('{field}') YIELD nodeId, communityId\n",
    "        WITH communityId, count(*) AS num_authors\n",
    "        ORDER BY num_authors DESC\n",
    "        LIMIT 1\n",
    "        RETURN num_authors''')\n",
    "\n",
    "        num_authors_in_main_component = result.single()['num_authors']\n",
    "\n",
    "\n",
    "    output = {'field' : field,\n",
    "              'num_authors' : num_authors,\n",
    "              'num_authors_FastRP' : num_author_RP,\n",
    "              'num_edges' : num_edges,\n",
    "              'degree_centrality_max' : max_centrality,\n",
    "              'degree_centrality_mean' : mean_centrality,\n",
    "              'num_community' : community_count,\n",
    "              'num_authors_in_main_component': num_authors_in_main_component\n",
    "              }\n",
    "\n",
    "    return output"
   ]
  },
  {
   "cell_type": "code",
   "execution_count": 76,
   "outputs": [],
   "source": [
    "create_coauthor_graph(df_coauthor_LC, 'lung_cancer')"
   ],
   "metadata": {
    "collapsed": false,
    "pycharm": {
     "name": "#%%\n"
    }
   }
  },
  {
   "cell_type": "code",
   "execution_count": 77,
   "outputs": [],
   "source": [
    "create_coauthor_graph(df_coauthor_SC, 'super_conducter')"
   ],
   "metadata": {
    "collapsed": false,
    "pycharm": {
     "name": "#%%\n"
    }
   }
  },
  {
   "cell_type": "code",
   "execution_count": 70,
   "id": "c22d7fc1",
   "metadata": {
    "pycharm": {
     "name": "#%%\n"
    }
   },
   "outputs": [
    {
     "name": "stdout",
     "output_type": "stream",
     "text": [
      "{'field': 'super_conducter', 'num_authors': 224, 'num_authors_FastRP': 224, 'num_edges': 206, 'degree_centrality_max': 17.00011444091797, 'degree_centrality_mean': 0.9196454456874302, 'num_community': 166, 'num_authors_in_main_component': 20}\n"
     ]
    }
   ],
   "source": [
    "result = calculate_graph_stats_for_field('super_conducter')\n",
    "\n",
    "print(result)"
   ]
  },
  {
   "cell_type": "code",
   "execution_count": null,
   "outputs": [],
   "source": [],
   "metadata": {
    "collapsed": false,
    "pycharm": {
     "name": "#%%\n"
    }
   }
  }
 ],
 "metadata": {
  "kernelspec": {
   "display_name": "Python 3 (ipykernel)",
   "language": "python",
   "name": "python3"
  },
  "language_info": {
   "codemirror_mode": {
    "name": "ipython",
    "version": 3
   },
   "file_extension": ".py",
   "mimetype": "text/x-python",
   "name": "python",
   "nbconvert_exporter": "python",
   "pygments_lexer": "ipython3",
   "version": "3.7.16"
  }
 },
 "nbformat": 4,
 "nbformat_minor": 5
}